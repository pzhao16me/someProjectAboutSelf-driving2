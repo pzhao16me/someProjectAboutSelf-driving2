{
 "cells": [
  {
   "cell_type": "code",
   "execution_count": null,
   "metadata": {
    "collapsed": true
   },
   "outputs": [],
   "source": [
    "import CameraCalibration\n",
    "import os\n",
    "import matplotlib.pyplot as plt\n",
    "import matplotlib.image as mpimg\n",
    "print(\"current:\", os.getcwd())\n"
   ]
  },
  {
   "cell_type": "code",
   "execution_count": null,
   "metadata": {
    "collapsed": true
   },
   "outputs": [],
   "source": [
    "aCal = CameraCalibration(\"camera_cal\",9,6, os.path.join(\"test_images\",\"straight_lines2.jpg\"))\n",
    "\n",
    "# Test cal data on simple straight line image\n",
    "straight_lines = mpimg.imread(os.path.join(\"test_images\",\"straight_lines2.jpg\"))\n",
    "# First undistort the image\n",
    "undist = cameraCal.undistort_image(straight_lines)\n",
    "\n",
    "fig = plt.figure(figsize=(20,10))\n",
    "plt.axis('off')\n",
    "ax = fig.add_subplot(1,2,1)\n",
    "ax.imshow(straight_lines)\n",
    "ax.set_title(\"Original\")\n",
    "ax = fig.add_subplot(1,2,2)\n",
    "ax.imshow(undist)\n",
    "ax.set_title(\"Undistorted\")\n"
   ]
  }
 ],
 "metadata": {
  "kernelspec": {
   "display_name": "Python 2",
   "language": "python",
   "name": "python2"
  },
  "language_info": {
   "codemirror_mode": {
    "name": "ipython",
    "version": 2
   },
   "file_extension": ".py",
   "mimetype": "text/x-python",
   "name": "python",
   "nbconvert_exporter": "python",
   "pygments_lexer": "ipython2",
   "version": "2.7.6"
  }
 },
 "nbformat": 4,
 "nbformat_minor": 0
}
